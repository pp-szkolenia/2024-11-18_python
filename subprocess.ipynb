{
 "cells": [
  {
   "cell_type": "markdown",
   "id": "49239a37-670d-4c43-b7f4-3c7928416184",
   "metadata": {},
   "source": [
    "# Subprocess"
   ]
  },
  {
   "cell_type": "code",
   "execution_count": 2,
   "id": "b8d3475e-d645-4ecd-8cb1-3ce8e01ca96c",
   "metadata": {},
   "outputs": [],
   "source": [
    "import subprocess"
   ]
  },
  {
   "cell_type": "markdown",
   "id": "da342e59-60bd-475b-89f4-13d6191fd460",
   "metadata": {},
   "source": [
    "## `call`"
   ]
  },
  {
   "cell_type": "code",
   "execution_count": 4,
   "id": "fbce3c96-16c3-4e92-995e-5a5ef426c831",
   "metadata": {},
   "outputs": [
    {
     "name": "stdout",
     "output_type": "stream",
     "text": [
      "Hello World\n"
     ]
    },
    {
     "data": {
      "text/plain": [
       "0"
      ]
     },
     "execution_count": 4,
     "metadata": {},
     "output_type": "execute_result"
    }
   ],
   "source": [
    "subprocess.call(\"echo Hello World\", shell=True)"
   ]
  },
  {
   "cell_type": "code",
   "execution_count": 7,
   "id": "e6729f87-1bfe-4b91-b8bc-1bef438a7a53",
   "metadata": {},
   "outputs": [
    {
     "name": "stdout",
     "output_type": "stream",
     "text": [
      "bazy_danych.ipynb  Notebooki\t   subpackage\t     wizualizacja.ipynb\n",
      "files\t\t   notebook.ipynb  subprocess.ipynb  wykres.png\n",
      "functions.py\t   __pycache__\t   test.txt\t     Zadania\n",
      "Kod\t\t   README.md\t   test_walk\n",
      "main_script.py\t   Rozwiązania\t   update.sh\n",
      "math_functions\t   src\t\t   venv\n"
     ]
    }
   ],
   "source": [
    "return_code = subprocess.call(\"dir\", shell=True)"
   ]
  },
  {
   "cell_type": "code",
   "execution_count": 8,
   "id": "ef058325-b157-4b26-a112-cbd6fbf47754",
   "metadata": {},
   "outputs": [
    {
     "data": {
      "text/plain": [
       "0"
      ]
     },
     "execution_count": 8,
     "metadata": {},
     "output_type": "execute_result"
    }
   ],
   "source": [
    "return_code"
   ]
  },
  {
   "cell_type": "markdown",
   "id": "fca715e2-5943-4064-b578-a95817e0d334",
   "metadata": {},
   "source": [
    "---"
   ]
  },
  {
   "cell_type": "code",
   "execution_count": 11,
   "id": "4ce08a6b-dad4-447b-889b-8c1eceac1605",
   "metadata": {},
   "outputs": [
    {
     "name": "stdout",
     "output_type": "stream",
     "text": [
      "bazy_danych.ipynb  Notebooki\t   subpackage\t     wizualizacja.ipynb\n",
      "files\t\t   notebook.ipynb  subprocess.ipynb  wykres.png\n",
      "functions.py\t   __pycache__\t   test.txt\t     Zadania\n",
      "Kod\t\t   README.md\t   test_walk\n",
      "main_script.py\t   Rozwiązania\t   update.sh\n",
      "math_functions\t   src\t\t   venv\n",
      "bazy_danych.ipynb  Notebooki\t   subpackage\t     wizualizacja.ipynb\n",
      "files\t\t   notebook.ipynb  subprocess.ipynb  wykres.png\n",
      "functions.py\t   __pycache__\t   test.txt\t     Zadania\n",
      "Kod\t\t   README.md\t   test_walk\n",
      "main_script.py\t   Rozwiązania\t   update.sh\n",
      "math_functions\t   src\t\t   venv\n"
     ]
    },
    {
     "data": {
      "text/plain": [
       "0"
      ]
     },
     "execution_count": 11,
     "metadata": {},
     "output_type": "execute_result"
    }
   ],
   "source": [
    "subprocess.call(\"dir\", shell=True)\n",
    "\n",
    "subprocess.call(\"sleep 5\", shell=True)\n",
    "\n",
    "subprocess.call(\"dir\", shell=True)"
   ]
  },
  {
   "cell_type": "code",
   "execution_count": 14,
   "id": "7946f759-5185-4099-8895-58ca41104587",
   "metadata": {},
   "outputs": [
    {
     "name": "stdout",
     "output_type": "stream",
     "text": [
      "to tylko warning\n"
     ]
    },
    {
     "name": "stderr",
     "output_type": "stream",
     "text": [
      "/bin/sh: 1: xyz: not found\n"
     ]
    }
   ],
   "source": [
    "subprocess.call(\"xyz\", shell=True)\n",
    "\n",
    "print(\"to tylko warning\")"
   ]
  },
  {
   "cell_type": "code",
   "execution_count": 15,
   "id": "5a0a4985-4498-4f7a-87b5-99e6da3fc603",
   "metadata": {},
   "outputs": [
    {
     "name": "stdout",
     "output_type": "stream",
     "text": [
      "Wystąpił błąd: Command 'xyz' returned non-zero exit status 127.\n"
     ]
    },
    {
     "name": "stderr",
     "output_type": "stream",
     "text": [
      "/bin/sh: 1: xyz: not found\n"
     ]
    }
   ],
   "source": [
    "try:\n",
    "    subprocess.check_call(\"xyz\", shell=True)\n",
    "except subprocess.CalledProcessError as e:\n",
    "    print(\"Wystąpił błąd:\", e)"
   ]
  },
  {
   "cell_type": "code",
   "execution_count": null,
   "id": "6e8aecbd-5d8d-47cb-85b4-78cd77e1be7c",
   "metadata": {},
   "outputs": [],
   "source": []
  },
  {
   "cell_type": "code",
   "execution_count": 16,
   "id": "3546bc61-0ec4-4773-a6e4-4ed96089d5f5",
   "metadata": {},
   "outputs": [],
   "source": [
    "import os"
   ]
  },
  {
   "cell_type": "code",
   "execution_count": 19,
   "id": "b1ff3fbc-9aaf-4a49-8b2f-8b9069ae4256",
   "metadata": {},
   "outputs": [
    {
     "name": "stdout",
     "output_type": "stream",
     "text": [
      "/home/patryk/Nextcloud/Szkolenia/Jsystems/2024-11-18_Python_devops\n"
     ]
    },
    {
     "data": {
      "text/plain": [
       "0"
      ]
     },
     "execution_count": 19,
     "metadata": {},
     "output_type": "execute_result"
    }
   ],
   "source": [
    "os.system(\"pwd\")"
   ]
  },
  {
   "cell_type": "markdown",
   "id": "7f8f9a76-5162-4d4e-9a73-3c767e12b6de",
   "metadata": {},
   "source": [
    "## `Popen`"
   ]
  },
  {
   "cell_type": "code",
   "execution_count": 30,
   "id": "41b73b9d-05e8-4b79-b092-a8231fccb80c",
   "metadata": {},
   "outputs": [],
   "source": [
    "process = subprocess.Popen(\"echo Hello World\", shell=True, stdout=subprocess.PIPE, stderr=subprocess.PIPE)"
   ]
  },
  {
   "cell_type": "code",
   "execution_count": 32,
   "id": "82cb1e7d-2200-4fd8-990c-837b075b6428",
   "metadata": {},
   "outputs": [],
   "source": [
    "output, errors = process.communicate()"
   ]
  },
  {
   "cell_type": "code",
   "execution_count": 36,
   "id": "d916265e-3ef1-40ef-99f0-27c1aeec8e6e",
   "metadata": {},
   "outputs": [
    {
     "data": {
      "text/plain": [
       "bytes"
      ]
     },
     "execution_count": 36,
     "metadata": {},
     "output_type": "execute_result"
    }
   ],
   "source": [
    "type(output)"
   ]
  },
  {
   "cell_type": "code",
   "execution_count": 37,
   "id": "ad38fc8f-6a32-49f1-8e53-c4a7dcbedcf9",
   "metadata": {},
   "outputs": [
    {
     "data": {
      "text/plain": [
       "'Hello World\\n'"
      ]
     },
     "execution_count": 37,
     "metadata": {},
     "output_type": "execute_result"
    }
   ],
   "source": [
    "output.decode()"
   ]
  },
  {
   "cell_type": "code",
   "execution_count": 38,
   "id": "0785513c-4f5c-4140-80bc-c4f562e4f184",
   "metadata": {},
   "outputs": [
    {
     "name": "stdout",
     "output_type": "stream",
     "text": [
      "bazy_danych.ipynb  Notebooki\t   subpackage\t     wizualizacja.ipynb\n",
      "files\t\t   notebook.ipynb  subprocess.ipynb  wykres.png\n",
      "functions.py\t   __pycache__\t   test.txt\t     Zadania\n",
      "Kod\t\t   README.md\t   test_walk\n",
      "main_script.py\t   Rozwiązania\t   update.sh\n",
      "math_functions\t   src\t\t   venv\n",
      "bazy_danych.ipynb  Notebooki\t   subpackage\t     wizualizacja.ipynb\n",
      "files\t\t   notebook.ipynb  subprocess.ipynb  wykres.png\n",
      "functions.py\t   __pycache__\t   test.txt\t     Zadania\n",
      "Kod\t\t   README.md\t   test_walk\n",
      "main_script.py\t   Rozwiązania\t   update.sh\n",
      "math_functions\t   src\t\t   venv\n"
     ]
    },
    {
     "data": {
      "text/plain": [
       "<Popen: returncode: None args: 'dir'>"
      ]
     },
     "execution_count": 38,
     "metadata": {},
     "output_type": "execute_result"
    }
   ],
   "source": [
    "subprocess.Popen(\"dir\", shell=True)\n",
    "\n",
    "subprocess.Popen(\"sleep 5\", shell=True)\n",
    "\n",
    "subprocess.Popen(\"dir\", shell=True)"
   ]
  },
  {
   "cell_type": "markdown",
   "id": "677d3a94-005c-4c2a-99c3-255c21dd166e",
   "metadata": {},
   "source": [
    "## Zadanie"
   ]
  },
  {
   "cell_type": "code",
   "execution_count": null,
   "id": "2c7f5133-9c00-41eb-bade-f36bbe8d9109",
   "metadata": {},
   "outputs": [],
   "source": [
    "import subprocess\n",
    "\n",
    "\n",
    "try:\n",
    "    subprocess.check_call('echo print(\\'Hello World\\') > hello.py', shell=True)\n",
    "    subprocess.check_call(\"python123 hello.py\", shell=True)\n",
    "except subprocess.CalledProcessError as e:\n",
    "    print(\"Nastąpił błąd\", e)\n"
   ]
  }
 ],
 "metadata": {
  "kernelspec": {
   "display_name": "Python 3 (ipykernel)",
   "language": "python",
   "name": "python3"
  },
  "language_info": {
   "codemirror_mode": {
    "name": "ipython",
    "version": 3
   },
   "file_extension": ".py",
   "mimetype": "text/x-python",
   "name": "python",
   "nbconvert_exporter": "python",
   "pygments_lexer": "ipython3",
   "version": "3.12.3"
  }
 },
 "nbformat": 4,
 "nbformat_minor": 5
}
