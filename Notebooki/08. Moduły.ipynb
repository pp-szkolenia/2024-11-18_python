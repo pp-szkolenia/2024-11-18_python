{
 "cells": [
  {
   "cell_type": "markdown",
   "id": "824d56b0",
   "metadata": {},
   "source": [
    "# Moduły\n"
   ]
  },
  {
   "cell_type": "markdown",
   "id": "0b0400e4",
   "metadata": {},
   "source": [
    "## Biblioteka standardowa\n",
    "\n",
    "Przykładowe moduły biblioteki standardowej:\n",
    "- `math` - operacje matematyczne\n",
    "- `random` - generowanie liczb pseudolosowych\n",
    "- `os` - operacje związane z systemem operacyjnym (zmienne środowiskowe, tworzenie/usuwanie plików/folderów)\n",
    "\n",
    "\n",
    "Oprócz tego istnieje wiele bibliotek, które możemy doinstalować."
   ]
  },
  {
   "cell_type": "markdown",
   "id": "ddb3ba32",
   "metadata": {},
   "source": [
    "### `datetime`\n",
    "\n",
    "Biblioteka `datetime` służy do wykonywania operacji związanych z datą i czasem. Poniżej znajduje się przegląd jej najważniejszych funkcjonalności."
   ]
  },
  {
   "cell_type": "code",
   "execution_count": null,
   "id": "d4fd4ef0",
   "metadata": {},
   "outputs": [],
   "source": [
    "import datetime"
   ]
  },
  {
   "cell_type": "code",
   "execution_count": null,
   "id": "86fa9b2c",
   "metadata": {},
   "outputs": [],
   "source": [
    "datetime"
   ]
  },
  {
   "cell_type": "code",
   "execution_count": null,
   "id": "b8223dd4",
   "metadata": {},
   "outputs": [],
   "source": [
    "type(datetime)"
   ]
  },
  {
   "cell_type": "code",
   "execution_count": null,
   "id": "f225281c",
   "metadata": {},
   "outputs": [],
   "source": [
    "from datetime import date, time, datetime, timedelta"
   ]
  },
  {
   "cell_type": "code",
   "execution_count": null,
   "id": "9d593c54",
   "metadata": {},
   "outputs": [],
   "source": [
    "type(date)"
   ]
  },
  {
   "cell_type": "code",
   "execution_count": null,
   "id": "bc993c60",
   "metadata": {},
   "outputs": [],
   "source": [
    "type(time)"
   ]
  },
  {
   "cell_type": "code",
   "execution_count": null,
   "id": "252b6134",
   "metadata": {},
   "outputs": [],
   "source": [
    "type(datetime)"
   ]
  },
  {
   "cell_type": "code",
   "execution_count": null,
   "id": "90a2dec9",
   "metadata": {},
   "outputs": [],
   "source": [
    "type(timedelta)"
   ]
  },
  {
   "cell_type": "markdown",
   "id": "c82a10bc",
   "metadata": {},
   "source": [
    "---"
   ]
  },
  {
   "cell_type": "code",
   "execution_count": null,
   "id": "4d429a92",
   "metadata": {},
   "outputs": [],
   "source": [
    "my_date = date(2023, 4, 2)\n",
    "my_date"
   ]
  },
  {
   "cell_type": "code",
   "execution_count": null,
   "id": "5f6d2eb0",
   "metadata": {},
   "outputs": [],
   "source": [
    "type(my_date)"
   ]
  },
  {
   "cell_type": "code",
   "execution_count": null,
   "id": "9ed7c30b",
   "metadata": {},
   "outputs": [],
   "source": [
    "my_date.year"
   ]
  },
  {
   "cell_type": "code",
   "execution_count": null,
   "id": "206d7ff7",
   "metadata": {},
   "outputs": [],
   "source": [
    "print(my_date.year)\n",
    "print(my_date.month)\n",
    "print(my_date.day)"
   ]
  },
  {
   "cell_type": "code",
   "execution_count": null,
   "id": "48a72288",
   "metadata": {},
   "outputs": [],
   "source": [
    "date.today()"
   ]
  },
  {
   "cell_type": "markdown",
   "id": "92165716",
   "metadata": {},
   "source": [
    "---"
   ]
  },
  {
   "cell_type": "code",
   "execution_count": null,
   "id": "e48ba358",
   "metadata": {},
   "outputs": [],
   "source": [
    "my_time = time(12, 50)\n",
    "my_time"
   ]
  },
  {
   "cell_type": "code",
   "execution_count": null,
   "id": "37545c8f",
   "metadata": {},
   "outputs": [],
   "source": [
    "my_time.hour, my_time.minute"
   ]
  },
  {
   "cell_type": "markdown",
   "id": "f0753470",
   "metadata": {},
   "source": [
    "---"
   ]
  },
  {
   "cell_type": "code",
   "execution_count": null,
   "id": "cc178bb5",
   "metadata": {},
   "outputs": [],
   "source": [
    "dt_now = datetime.now()\n",
    "dt_now"
   ]
  },
  {
   "cell_type": "code",
   "execution_count": null,
   "id": "52e5b964",
   "metadata": {},
   "outputs": [],
   "source": [
    "dt_now.year, dt_now.month, dt_now.day, dt_now.hour, dt_now.minute, dt_now.second, dt_now.microsecond"
   ]
  },
  {
   "cell_type": "code",
   "execution_count": null,
   "id": "ac4b161c",
   "metadata": {},
   "outputs": [],
   "source": [
    "dt_now.time()"
   ]
  },
  {
   "cell_type": "code",
   "execution_count": null,
   "id": "4efcf468",
   "metadata": {},
   "outputs": [],
   "source": [
    "dt_now.date()"
   ]
  },
  {
   "cell_type": "markdown",
   "id": "4928f150",
   "metadata": {},
   "source": [
    "---"
   ]
  },
  {
   "cell_type": "code",
   "execution_count": null,
   "id": "2f7fd143",
   "metadata": {},
   "outputs": [],
   "source": [
    "timedelta(hours=1, minutes=2, seconds=3)"
   ]
  },
  {
   "cell_type": "code",
   "execution_count": null,
   "id": "03ec4160",
   "metadata": {},
   "outputs": [],
   "source": [
    "timedelta(hours=1, minutes=2, seconds=3, days=1)"
   ]
  },
  {
   "cell_type": "markdown",
   "id": "b778d0e9",
   "metadata": {},
   "source": [
    "---"
   ]
  },
  {
   "cell_type": "code",
   "execution_count": null,
   "id": "ba1d8d5a",
   "metadata": {},
   "outputs": [],
   "source": [
    "dt_now"
   ]
  },
  {
   "cell_type": "code",
   "execution_count": null,
   "id": "ea7e2a52",
   "metadata": {},
   "outputs": [],
   "source": [
    "str(dt_now)"
   ]
  },
  {
   "cell_type": "code",
   "execution_count": null,
   "id": "0db84f77",
   "metadata": {},
   "outputs": [],
   "source": [
    "datetime.strftime(dt_now, \"%Y-%m-%d %H:%M\")"
   ]
  },
  {
   "cell_type": "code",
   "execution_count": null,
   "id": "d6be046d",
   "metadata": {},
   "outputs": [],
   "source": [
    "dt_now.strftime(\"%Y-%m-%d %H:%M\")"
   ]
  },
  {
   "cell_type": "code",
   "execution_count": null,
   "id": "3ab0fc07",
   "metadata": {},
   "outputs": [],
   "source": [
    "my_time.strftime(\"%H:%M\")"
   ]
  },
  {
   "cell_type": "markdown",
   "id": "25158b05",
   "metadata": {},
   "source": [
    "---"
   ]
  },
  {
   "cell_type": "code",
   "execution_count": null,
   "id": "d9d1a626",
   "metadata": {},
   "outputs": [],
   "source": [
    "dt_now_str = datetime.strftime(dt_now, \"%Y-%m-%d %H:%M\")\n",
    "dt_now_str"
   ]
  },
  {
   "cell_type": "code",
   "execution_count": null,
   "id": "c016a082",
   "metadata": {
    "scrolled": false
   },
   "outputs": [],
   "source": [
    "datetime.strptime(dt_now_str, \"%Y-%m-%d %H:%M\")"
   ]
  },
  {
   "cell_type": "code",
   "execution_count": null,
   "id": "bbda1aee",
   "metadata": {},
   "outputs": [],
   "source": [
    "datetime.strptime(\"12:45\", \"%H:%M\").time()"
   ]
  },
  {
   "cell_type": "markdown",
   "id": "09be244a",
   "metadata": {},
   "source": [
    "**Biblioteka standardowa – podsumowanie:**\n",
    "\n",
    "- W Pythonie istnieje szereg modułów należących do tzw. biblioteki standardowej\n",
    "- Oprócz nich możemy również doinstalować zewnętrzne moduły\n",
    "- Biblioteka `datetime` pozwala wykonywać operacje na obiektach reprezentujących datę i czas"
   ]
  },
  {
   "cell_type": "markdown",
   "id": "8ee19a11",
   "metadata": {},
   "source": [
    "> **ZADANIA**"
   ]
  },
  {
   "cell_type": "markdown",
   "id": "b31b3785",
   "metadata": {},
   "source": [
    "## Import kodu z innych plików\n",
    "\n",
    "PyCharm"
   ]
  },
  {
   "cell_type": "markdown",
   "id": "748021fe",
   "metadata": {},
   "source": [
    "> **ZADANIA**"
   ]
  }
 ],
 "metadata": {
  "kernelspec": {
   "display_name": "Python 3 (ipykernel)",
   "language": "python",
   "name": "python3"
  },
  "language_info": {
   "codemirror_mode": {
    "name": "ipython",
    "version": 3
   },
   "file_extension": ".py",
   "mimetype": "text/x-python",
   "name": "python",
   "nbconvert_exporter": "python",
   "pygments_lexer": "ipython3",
   "version": "3.11.5"
  },
  "toc": {
   "base_numbering": 1,
   "nav_menu": {},
   "number_sections": true,
   "sideBar": true,
   "skip_h1_title": true,
   "title_cell": "Table of Contents",
   "title_sidebar": "Contents",
   "toc_cell": false,
   "toc_position": {},
   "toc_section_display": true,
   "toc_window_display": false
  },
  "varInspector": {
   "cols": {
    "lenName": 16,
    "lenType": 16,
    "lenVar": 40
   },
   "kernels_config": {
    "python": {
     "delete_cmd_postfix": "",
     "delete_cmd_prefix": "del ",
     "library": "var_list.py",
     "varRefreshCmd": "print(var_dic_list())"
    },
    "r": {
     "delete_cmd_postfix": ") ",
     "delete_cmd_prefix": "rm(",
     "library": "var_list.r",
     "varRefreshCmd": "cat(var_dic_list()) "
    }
   },
   "types_to_exclude": [
    "module",
    "function",
    "builtin_function_or_method",
    "instance",
    "_Feature"
   ],
   "window_display": false
  }
 },
 "nbformat": 4,
 "nbformat_minor": 5
}
