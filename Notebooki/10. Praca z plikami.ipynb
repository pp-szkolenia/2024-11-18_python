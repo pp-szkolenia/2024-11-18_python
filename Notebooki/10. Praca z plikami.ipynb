{
 "cells": [
  {
   "cell_type": "markdown",
   "id": "13dfdaba",
   "metadata": {},
   "source": [
    "# Praca z plikami\n",
    "\n",
    "## Pliki json\n",
    "### Operacje zapisu"
   ]
  },
  {
   "cell_type": "code",
   "execution_count": null,
   "id": "9f65428b",
   "metadata": {},
   "outputs": [],
   "source": [
    "tasks_list = [\n",
    "    {\"description\": \"Learn Python\",\n",
    "     \"assignee\": None,\n",
    "     \"priority\": 3,\n",
    "     \"time_logged\": 6.25,\n",
    "     \"is_completed\": False,\n",
    "     \"tags\": [\"edu\", \"dev\"]\n",
    "    },\n",
    "    \n",
    "    {\"description\": \"Do exercises\",\n",
    "     \"assignee\": None,\n",
    "     \"priority\": 2,\n",
    "     \"time_logged\": 2,\n",
    "     \"is_completed\": True}\n",
    "]"
   ]
  },
  {
   "cell_type": "code",
   "execution_count": null,
   "id": "cc8aafc0",
   "metadata": {},
   "outputs": [],
   "source": [
    "tasks_list"
   ]
  },
  {
   "cell_type": "code",
   "execution_count": null,
   "id": "938d8fba",
   "metadata": {},
   "outputs": [],
   "source": [
    "import json"
   ]
  },
  {
   "cell_type": "code",
   "execution_count": null,
   "id": "829aea81",
   "metadata": {},
   "outputs": [],
   "source": [
    "with open(\"files/tasks.json\", \"w\") as f:\n",
    "    json.dump(tasks_list, f)"
   ]
  },
  {
   "cell_type": "code",
   "execution_count": null,
   "id": "1eeebe17",
   "metadata": {},
   "outputs": [],
   "source": [
    "with open(\"files/tasks.json\", \"w\") as f:\n",
    "    json.dump(tasks_list, f, indent=4)"
   ]
  },
  {
   "cell_type": "markdown",
   "id": "fa2d4feb",
   "metadata": {},
   "source": [
    "### Operacje odczytu"
   ]
  },
  {
   "cell_type": "code",
   "execution_count": null,
   "id": "34df630b",
   "metadata": {},
   "outputs": [],
   "source": [
    "with open(\"files/tasks.json\", \"r\") as f:\n",
    "    loaded_json = json.load(f)\n",
    "    \n",
    "loaded_json"
   ]
  },
  {
   "cell_type": "markdown",
   "id": "ed41e26f",
   "metadata": {},
   "source": [
    "## `pickle`"
   ]
  },
  {
   "cell_type": "code",
   "execution_count": null,
   "id": "7595599f",
   "metadata": {},
   "outputs": [],
   "source": [
    "x = 1"
   ]
  },
  {
   "cell_type": "code",
   "execution_count": null,
   "id": "1d6b0c4f",
   "metadata": {},
   "outputs": [],
   "source": [
    "import pickle"
   ]
  },
  {
   "cell_type": "code",
   "execution_count": null,
   "id": "6550f5ed",
   "metadata": {},
   "outputs": [],
   "source": [
    "with open(\"files/pickle_file.pickle\", \"wb\") as f:\n",
    "    pickle.dump(x, f)"
   ]
  },
  {
   "cell_type": "code",
   "execution_count": null,
   "id": "0c7a865b",
   "metadata": {},
   "outputs": [],
   "source": [
    "with open(\"files/pickle_file.pickle\", \"rb\") as f:\n",
    "    loaded_pickle = pickle.load(f)\n",
    "    \n",
    "loaded_pickle"
   ]
  },
  {
   "cell_type": "markdown",
   "id": "d20e6185",
   "metadata": {},
   "source": [
    "> **ZADANIA**"
   ]
  },
  {
   "cell_type": "markdown",
   "id": "3aa12b67",
   "metadata": {},
   "source": [
    "## Biblioteka `os`\n",
    "### Ścieżki względne i bezwzględne"
   ]
  },
  {
   "cell_type": "code",
   "execution_count": null,
   "id": "6aad20d2",
   "metadata": {},
   "outputs": [],
   "source": [
    "absolute_path = \"/home/user/path/to_folder\"\n",
    "\n",
    "relative_path = \"path/to/folder\""
   ]
  },
  {
   "cell_type": "markdown",
   "id": "b04268be",
   "metadata": {},
   "source": [
    "### Funkcje biblioteki `os`\n",
    "**`getcwd()`**"
   ]
  },
  {
   "cell_type": "code",
   "execution_count": null,
   "id": "4c83b279",
   "metadata": {},
   "outputs": [],
   "source": [
    "import os"
   ]
  },
  {
   "cell_type": "code",
   "execution_count": null,
   "id": "bab6ce2f",
   "metadata": {},
   "outputs": [],
   "source": [
    "os.getcwd()"
   ]
  },
  {
   "cell_type": "markdown",
   "id": "24cc337d",
   "metadata": {},
   "source": [
    "**`listdir()`**"
   ]
  },
  {
   "cell_type": "code",
   "execution_count": null,
   "id": "5c3f3deb",
   "metadata": {},
   "outputs": [],
   "source": [
    "os.listdir()"
   ]
  },
  {
   "cell_type": "code",
   "execution_count": null,
   "id": "526d5b8b",
   "metadata": {
    "scrolled": true
   },
   "outputs": [],
   "source": [
    "for file in sorted(os.listdir()):\n",
    "    if file.endswith(\".ipynb\"):\n",
    "        print(file)"
   ]
  },
  {
   "cell_type": "code",
   "execution_count": null,
   "id": "787dc39c",
   "metadata": {
    "scrolled": true
   },
   "outputs": [],
   "source": [
    "os.listdir(\"/usr\")"
   ]
  },
  {
   "cell_type": "markdown",
   "id": "d34b6862",
   "metadata": {},
   "source": [
    "**`path.join()`**"
   ]
  },
  {
   "cell_type": "code",
   "execution_count": null,
   "id": "c1662266",
   "metadata": {},
   "outputs": [],
   "source": [
    "os.path.join(os.getcwd(), \"files\")"
   ]
  },
  {
   "cell_type": "markdown",
   "id": "64a509bd",
   "metadata": {},
   "source": [
    "**tworzenie i usuwanie folderów**"
   ]
  },
  {
   "cell_type": "code",
   "execution_count": null,
   "id": "c97b8b15",
   "metadata": {},
   "outputs": [],
   "source": [
    "os.mkdir(\"new_directory\")"
   ]
  },
  {
   "cell_type": "code",
   "execution_count": null,
   "id": "95069a2d",
   "metadata": {},
   "outputs": [],
   "source": [
    "os.rmdir(\"new_directory\")"
   ]
  },
  {
   "cell_type": "code",
   "execution_count": null,
   "id": "229cd079",
   "metadata": {},
   "outputs": [],
   "source": [
    "os.mkdir(\"new_directory/another_directory\")  # error"
   ]
  },
  {
   "cell_type": "code",
   "execution_count": null,
   "id": "4050d4da",
   "metadata": {},
   "outputs": [],
   "source": [
    "os.makedirs(\"new_directory/another_directory\")"
   ]
  },
  {
   "cell_type": "code",
   "execution_count": null,
   "id": "a7380be7",
   "metadata": {},
   "outputs": [],
   "source": [
    "os.rmdir(\"new_directory\")  # error"
   ]
  },
  {
   "cell_type": "code",
   "execution_count": null,
   "id": "6a4ddec1",
   "metadata": {},
   "outputs": [],
   "source": [
    "import shutil\n",
    "shutil.rmtree('new_directory')"
   ]
  },
  {
   "cell_type": "markdown",
   "id": "f4438589",
   "metadata": {},
   "source": [
    "> **ZADANIA**"
   ]
  }
 ],
 "metadata": {
  "kernelspec": {
   "display_name": "Python 3 (ipykernel)",
   "language": "python",
   "name": "python3"
  },
  "language_info": {
   "codemirror_mode": {
    "name": "ipython",
    "version": 3
   },
   "file_extension": ".py",
   "mimetype": "text/x-python",
   "name": "python",
   "nbconvert_exporter": "python",
   "pygments_lexer": "ipython3",
   "version": "3.12.7"
  },
  "toc": {
   "base_numbering": 1,
   "nav_menu": {},
   "number_sections": true,
   "sideBar": true,
   "skip_h1_title": true,
   "title_cell": "Table of Contents",
   "title_sidebar": "Contents",
   "toc_cell": false,
   "toc_position": {},
   "toc_section_display": true,
   "toc_window_display": false
  },
  "varInspector": {
   "cols": {
    "lenName": 16,
    "lenType": 16,
    "lenVar": 40
   },
   "kernels_config": {
    "python": {
     "delete_cmd_postfix": "",
     "delete_cmd_prefix": "del ",
     "library": "var_list.py",
     "varRefreshCmd": "print(var_dic_list())"
    },
    "r": {
     "delete_cmd_postfix": ") ",
     "delete_cmd_prefix": "rm(",
     "library": "var_list.r",
     "varRefreshCmd": "cat(var_dic_list()) "
    }
   },
   "types_to_exclude": [
    "module",
    "function",
    "builtin_function_or_method",
    "instance",
    "_Feature"
   ],
   "window_display": false
  }
 },
 "nbformat": 4,
 "nbformat_minor": 5
}
