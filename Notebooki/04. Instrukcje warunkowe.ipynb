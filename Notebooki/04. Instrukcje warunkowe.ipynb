{
 "cells": [
  {
   "cell_type": "markdown",
   "id": "ac49c0ce",
   "metadata": {},
   "source": [
    "# Instrukcje warunkowe\n",
    "\n",
    "## Operatory porównania"
   ]
  },
  {
   "cell_type": "code",
   "execution_count": null,
   "id": "f095e9ee",
   "metadata": {},
   "outputs": [],
   "source": [
    "3 > 2"
   ]
  },
  {
   "cell_type": "code",
   "execution_count": null,
   "id": "68b608a4",
   "metadata": {},
   "outputs": [],
   "source": [
    "4 < 1"
   ]
  },
  {
   "cell_type": "code",
   "execution_count": null,
   "id": "71bbf792",
   "metadata": {},
   "outputs": [],
   "source": [
    "3 <= 4"
   ]
  },
  {
   "cell_type": "code",
   "execution_count": null,
   "id": "11bc8a55",
   "metadata": {},
   "outputs": [],
   "source": [
    "2 >= 2"
   ]
  },
  {
   "cell_type": "code",
   "execution_count": null,
   "id": "65b201fd",
   "metadata": {},
   "outputs": [],
   "source": [
    "-2 == 0"
   ]
  },
  {
   "cell_type": "code",
   "execution_count": null,
   "id": "46270349",
   "metadata": {},
   "outputs": [],
   "source": [
    "-2 != 0"
   ]
  },
  {
   "cell_type": "code",
   "execution_count": null,
   "id": "3c43b1e1",
   "metadata": {},
   "outputs": [],
   "source": [
    "5 > 3 > 1"
   ]
  },
  {
   "cell_type": "code",
   "execution_count": null,
   "id": "3aee2fce",
   "metadata": {},
   "outputs": [],
   "source": [
    "3 in [2, 3, 4, 5]"
   ]
  },
  {
   "cell_type": "code",
   "execution_count": null,
   "id": "210dc9a5",
   "metadata": {},
   "outputs": [],
   "source": [
    "3 not in [2, 3, 4, 5]"
   ]
  },
  {
   "cell_type": "code",
   "execution_count": null,
   "id": "93fb31bf",
   "metadata": {},
   "outputs": [],
   "source": [
    "variable = None\n",
    "variable is None"
   ]
  },
  {
   "cell_type": "code",
   "execution_count": null,
   "id": "3e9328fa",
   "metadata": {},
   "outputs": [],
   "source": [
    "variable is not None"
   ]
  },
  {
   "cell_type": "markdown",
   "id": "0a524ce6",
   "metadata": {},
   "source": [
    "**Operatory porównania – podsumowanie:**\n",
    "\n",
    "- Aby sprawdzić, który z dwóch obiektów jest większy (lub równy) albo mniejszy (lub równy) używamy znanych z matematyki operatorów większości, mniejszości i równości\n",
    "- Aby sprawdzić równość dwóch obiektów używamy operatora ==\n",
    "- Aby sprawdzić brak równości dwóch obiektów, używamy operatora !=\n",
    "- Aby sprawdzić, czy element występuje w sekwencji, używamy operatora `in`\n",
    "- Aby sprawdzić, czy zmienna to *None*, używamy operatora `is`\n",
    "- W celu zaprzeczenia używamy operatora `not`"
   ]
  },
  {
   "cell_type": "markdown",
   "id": "1f147769",
   "metadata": {},
   "source": [
    "## Spójniki logiczne"
   ]
  },
  {
   "cell_type": "code",
   "execution_count": null,
   "id": "e4d67d17",
   "metadata": {},
   "outputs": [],
   "source": [
    "true = True\n",
    "false = False"
   ]
  },
  {
   "cell_type": "markdown",
   "id": "d07a9135",
   "metadata": {},
   "source": [
    "###### and"
   ]
  },
  {
   "cell_type": "code",
   "execution_count": null,
   "id": "2eae23b9",
   "metadata": {},
   "outputs": [],
   "source": [
    "print(true and true)\n",
    "print(true and false)\n",
    "print(false and true)\n",
    "print(false and false)"
   ]
  },
  {
   "cell_type": "markdown",
   "id": "2f10113d",
   "metadata": {},
   "source": [
    "###### or"
   ]
  },
  {
   "cell_type": "code",
   "execution_count": null,
   "id": "a1fee3bd",
   "metadata": {},
   "outputs": [],
   "source": [
    "print(true or true)\n",
    "print(true or false)\n",
    "print(false or true)\n",
    "print(false or false)"
   ]
  },
  {
   "cell_type": "markdown",
   "id": "9db4d938",
   "metadata": {},
   "source": [
    "###### kombinacje\n",
    "\n",
    "`and` ma pierwszeństwo względem `or`"
   ]
  },
  {
   "cell_type": "code",
   "execution_count": null,
   "id": "b0a3027a",
   "metadata": {},
   "outputs": [],
   "source": [
    "True and True and False"
   ]
  },
  {
   "cell_type": "code",
   "execution_count": null,
   "id": "b48fa522",
   "metadata": {},
   "outputs": [],
   "source": [
    "True or False or False"
   ]
  },
  {
   "cell_type": "code",
   "execution_count": null,
   "id": "4f0a693f",
   "metadata": {},
   "outputs": [],
   "source": [
    "True or True and False"
   ]
  },
  {
   "cell_type": "code",
   "execution_count": null,
   "id": "5c71e282",
   "metadata": {},
   "outputs": [],
   "source": [
    "(True or True) and False"
   ]
  },
  {
   "cell_type": "code",
   "execution_count": null,
   "id": "11162966",
   "metadata": {},
   "outputs": [],
   "source": [
    "False or True and False"
   ]
  },
  {
   "cell_type": "code",
   "execution_count": null,
   "id": "e9217b57",
   "metadata": {},
   "outputs": [],
   "source": [
    "3 > 2 > 1"
   ]
  },
  {
   "cell_type": "code",
   "execution_count": null,
   "id": "714bbcb5",
   "metadata": {},
   "outputs": [],
   "source": [
    "3 > 10 > 1"
   ]
  },
  {
   "cell_type": "markdown",
   "id": "5e624dc8",
   "metadata": {},
   "source": [
    "***rzutowanie na bool***\n",
    "\n",
    "Pewne obiekty po zrzutowaniu na `bool` zwrócą `True` a inne `False`. Świadomość tego jest potrzebna przy pracy z instrukcjami warunkowymi."
   ]
  },
  {
   "cell_type": "code",
   "execution_count": null,
   "id": "5d5ffb60",
   "metadata": {},
   "outputs": [],
   "source": [
    "bool(21)"
   ]
  },
  {
   "cell_type": "code",
   "execution_count": null,
   "id": "404bb8bd",
   "metadata": {},
   "outputs": [],
   "source": [
    "bool(-3)"
   ]
  },
  {
   "cell_type": "code",
   "execution_count": null,
   "id": "2c0c1df1",
   "metadata": {},
   "outputs": [],
   "source": [
    "bool(0)"
   ]
  },
  {
   "cell_type": "code",
   "execution_count": null,
   "id": "9b24fcfb",
   "metadata": {},
   "outputs": [],
   "source": [
    "bool([])"
   ]
  },
  {
   "cell_type": "code",
   "execution_count": null,
   "id": "3de73bdd",
   "metadata": {},
   "outputs": [],
   "source": [
    "bool([0])"
   ]
  },
  {
   "cell_type": "code",
   "execution_count": null,
   "id": "6b0cb9d3",
   "metadata": {},
   "outputs": [],
   "source": [
    "bool(\"\")"
   ]
  },
  {
   "cell_type": "code",
   "execution_count": null,
   "id": "9d6c52d8",
   "metadata": {},
   "outputs": [],
   "source": [
    "bool(\".\")"
   ]
  },
  {
   "cell_type": "markdown",
   "id": "e188835a",
   "metadata": {},
   "source": [
    "**Spójniki logiczne – podsumowanie:**\n",
    "\n",
    "- Aby sprawdzić czy oba warunki logiczne są naraz prawdziwe używamy spójnika *and*\n",
    "- Aby sprawdzić czy przynajmniej jeden z warunków logicznych jest prawdziwy używamy spójnika *or*\n",
    "- Możemy łączyć warunki logiczne w dłuższe łańcuchy. Wtedy spójnik *and* ma pierwszeństwo przed *or*\n",
    "- Aby połączyć kilka warunków logicznych dotyczących relacji mniejszości lub większości możemy użyć kilku znaków typu <, >, <=, ... w jednej linii"
   ]
  },
  {
   "cell_type": "markdown",
   "id": "b5f128c3",
   "metadata": {},
   "source": [
    "## Instrukcja `if`\n",
    "\n",
    "To co znajdzie się między `if` a `:` jest kryterium wykonania instrukcji warunkowej.\n",
    "\n",
    "Jeżeli wyrażenie to zrzutowane na `bool` zwróci `True`, to kod pod ifem się wykona."
   ]
  },
  {
   "cell_type": "code",
   "execution_count": null,
   "id": "2dc54eef",
   "metadata": {},
   "outputs": [],
   "source": [
    "is_task_completed = True\n",
    "\n",
    "if is_task_completed:\n",
    "    print(\"The task is completed\")"
   ]
  },
  {
   "cell_type": "code",
   "execution_count": null,
   "id": "eedc9e84",
   "metadata": {},
   "outputs": [],
   "source": [
    "task_1_priority = 3\n",
    "task_2_priority = 2\n",
    "\n",
    "if task_1_priority > task_2_priority:\n",
    "    print(\"Task 1 is more important\")"
   ]
  },
  {
   "cell_type": "code",
   "execution_count": null,
   "id": "b15a4ac8",
   "metadata": {},
   "outputs": [],
   "source": [
    "time_logged = 0\n",
    "\n",
    "if time_logged:\n",
    "    print(\"There is some time logged\")"
   ]
  },
  {
   "cell_type": "code",
   "execution_count": null,
   "id": "92a9e54f",
   "metadata": {},
   "outputs": [],
   "source": [
    "tags_list = [\"dev\", \"python\"]\n",
    "\n",
    "if \"python\" in tags_list:\n",
    "    print(\"Python is in the tags\")"
   ]
  },
  {
   "cell_type": "code",
   "execution_count": null,
   "id": "364f51a2",
   "metadata": {},
   "outputs": [],
   "source": [
    "list_of_comments = [\"Comment 1\", \"Comment 2\"]\n",
    "\n",
    "if list_of_comments:\n",
    "    print(\"The are some comments in the list\")"
   ]
  },
  {
   "cell_type": "code",
   "execution_count": null,
   "id": "c5ce1e59",
   "metadata": {
    "scrolled": true
   },
   "outputs": [],
   "source": [
    "print(\"a\")\n",
    "print(\"b\")\n",
    "\n",
    "if True:\n",
    "    print(\"c\")\n",
    "    \n",
    "if False:\n",
    "    print(\"d\")\n",
    "    \n",
    "print(\"e\")"
   ]
  },
  {
   "cell_type": "markdown",
   "id": "0ccd9127",
   "metadata": {},
   "source": [
    "> *ERROR ALERT*\n",
    "\n",
    "Brak wcięcia skutkuje błędem *IndentationError*. **Indentation** oznacza \"wcięcie\". Warto znać to słowo programując w Pythonie."
   ]
  },
  {
   "cell_type": "code",
   "execution_count": null,
   "id": "9080f6ec",
   "metadata": {},
   "outputs": [],
   "source": [
    "if True:\n",
    "print(\"hello\")"
   ]
  },
  {
   "cell_type": "markdown",
   "id": "c837d42c",
   "metadata": {},
   "source": [
    "**Instrukcja `if` – podsumowanie:**\n",
    "\n",
    "- Aby uzależnić wykonanie fragmentu kodu od tego czy spełniony został określony warunek logiczny używamy instrukcji warunkowych\n",
    "- Instrukcja warunkowa składa się ze słowa kluczowego `if`, warunku logicznego, dwukropka oraz wciętego bloku kodu\n",
    "- Jeśli zamiast warunku logicznego użyjemy innego obiektu - np. stringa, inta czy listy - zostanie on zrzutowany na `bool` a następnie użyty do określenia czy blok kodu ma zostać wykonany"
   ]
  },
  {
   "cell_type": "markdown",
   "id": "68345af1",
   "metadata": {},
   "source": [
    "> **ZADANIA**"
   ]
  },
  {
   "cell_type": "markdown",
   "id": "882e0900",
   "metadata": {},
   "source": [
    "## Instrukcja `if-else`"
   ]
  },
  {
   "cell_type": "code",
   "execution_count": null,
   "id": "f62028a8",
   "metadata": {},
   "outputs": [],
   "source": [
    "list_of_tasks = [\"Learn Python\", \"Do exercises\", \"Drink coffee\", \"Finish my work\"]\n",
    "\n",
    "\n",
    "if len(list_of_tasks) == 0:\n",
    "    print(\"You've completed all your tasks!\")\n",
    "else:\n",
    "    print(\"There is still something to do\")"
   ]
  },
  {
   "cell_type": "markdown",
   "id": "162b7863",
   "metadata": {},
   "source": [
    "---"
   ]
  },
  {
   "cell_type": "code",
   "execution_count": null,
   "id": "4f717b6b",
   "metadata": {},
   "outputs": [],
   "source": [
    "n_of_completed_tasks = 4\n",
    "\n",
    "is_new_task_finished = True  # False\n",
    "\n",
    "\n",
    "if is_new_task_finished:\n",
    "    n_of_completed_tasks += 1\n",
    "else:\n",
    "    print(\"Complete your new task!\")\n",
    "    \n",
    "\n",
    "print(f\"Number of completed tasks: {n_of_completed_tasks}\")"
   ]
  },
  {
   "cell_type": "markdown",
   "id": "838f10ce",
   "metadata": {},
   "source": [
    "---"
   ]
  },
  {
   "cell_type": "code",
   "execution_count": null,
   "id": "5ab50e2f",
   "metadata": {},
   "outputs": [],
   "source": [
    "x = 1"
   ]
  },
  {
   "cell_type": "code",
   "execution_count": null,
   "id": "2e284c55",
   "metadata": {},
   "outputs": [],
   "source": [
    "if x % 2 == 0:\n",
    "    x -= 1\n",
    "else:\n",
    "    x *= 2\n",
    "\n",
    "print(x)"
   ]
  },
  {
   "cell_type": "markdown",
   "id": "c9b4dee5",
   "metadata": {},
   "source": [
    "---"
   ]
  },
  {
   "cell_type": "code",
   "execution_count": null,
   "id": "aaa392ca",
   "metadata": {},
   "outputs": [],
   "source": [
    "task_1_priority = 2\n",
    "task_2_priority = 1\n",
    "\n",
    "next_to_do = \"task 1\" if task_1_priority > task_2_priority else \"task 2\"\n",
    "next_to_do"
   ]
  },
  {
   "cell_type": "markdown",
   "id": "d41f9f89",
   "metadata": {},
   "source": [
    "**Instrukcja `if-else` – podsumowanie:**\n",
    "\n",
    "- Aby wykonać jeden z dwóch bloków kodu (w zależności od tego czy określony warunek logiczny zostanie spełniony) należy użyć instrukcji `if-else`\n",
    "- Każdy z bloków powinien być wcięty, słowa kluczowe `if` oraz `else` powinny być na tym samym poziomie wcięcia\n",
    "- Instrukcja `if-else` może być zapisana w skróconej, jednolinijkowej formie aby przypisać do zmiennej różną wartość w zależności od tego czy spełniony jest warunek, czy nie"
   ]
  },
  {
   "cell_type": "markdown",
   "id": "34a1e4da",
   "metadata": {},
   "source": [
    "## Instrukcja `if-elif-(else)`"
   ]
  },
  {
   "cell_type": "code",
   "execution_count": null,
   "id": "40b61e10",
   "metadata": {},
   "outputs": [],
   "source": [
    "status = \"To do\"\n",
    "\n",
    "if status == \"To do\":\n",
    "    print(\"Do the task\")\n",
    "elif status == \"Done\":\n",
    "    print(\"The task is done\")\n",
    "else:\n",
    "    print(\"Unknown status\")"
   ]
  },
  {
   "cell_type": "markdown",
   "id": "b8aefaff",
   "metadata": {},
   "source": [
    "---"
   ]
  },
  {
   "cell_type": "code",
   "execution_count": null,
   "id": "173bb63c",
   "metadata": {},
   "outputs": [],
   "source": [
    "from datetime import date\n",
    "\n",
    "today_date = str(date.today())\n",
    "today_date"
   ]
  },
  {
   "cell_type": "code",
   "execution_count": null,
   "id": "d8963fd7",
   "metadata": {
    "scrolled": true
   },
   "outputs": [],
   "source": [
    "due_date = \"2023-10-09\"\n",
    "\n",
    "if due_date > today_date:\n",
    "    print(\"Due date is in the future\")\n",
    "elif due_date < today_date:\n",
    "    print(\"Due date is in the past\")\n",
    "else:\n",
    "    print(\"Due date is today\")"
   ]
  },
  {
   "cell_type": "markdown",
   "id": "677f77ab",
   "metadata": {},
   "source": [
    "**Instrukcja `if-elif-(else)` – podsumowanie:**\n",
    "\n",
    "- Jeśli spośród kilku możliwych scenariuszy, które zależne są od przypisanych im warunków logicznych, chcemy wykonać tylko jeden, używamy instrukcji `if-elif-(else)`\n",
    "- *if* musi być dokładnie jeden, *elifów* może być dowolna liczba natomiast *else* może być jeden lub żaden\n",
    "- Instrukcje warunkowe możemy zagnieżdżać\n",
    "- Kiedy jeden z warunków zostanie spełniony, następuje wyjście z instrukcji warunkowej zaraz po wykonaniu kodu, który znajduje się w bloku pod tym warunkiem"
   ]
  },
  {
   "cell_type": "markdown",
   "id": "a548093d",
   "metadata": {},
   "source": [
    "> **ZADANIA**"
   ]
  }
 ],
 "metadata": {
  "kernelspec": {
   "display_name": "Python 3 (ipykernel)",
   "language": "python",
   "name": "python3"
  },
  "language_info": {
   "codemirror_mode": {
    "name": "ipython",
    "version": 3
   },
   "file_extension": ".py",
   "mimetype": "text/x-python",
   "name": "python",
   "nbconvert_exporter": "python",
   "pygments_lexer": "ipython3",
   "version": "3.12.7"
  },
  "toc": {
   "base_numbering": 1,
   "nav_menu": {},
   "number_sections": true,
   "sideBar": true,
   "skip_h1_title": true,
   "title_cell": "Table of Contents",
   "title_sidebar": "Contents",
   "toc_cell": false,
   "toc_position": {},
   "toc_section_display": true,
   "toc_window_display": false
  },
  "varInspector": {
   "cols": {
    "lenName": 16,
    "lenType": 16,
    "lenVar": 40
   },
   "kernels_config": {
    "python": {
     "delete_cmd_postfix": "",
     "delete_cmd_prefix": "del ",
     "library": "var_list.py",
     "varRefreshCmd": "print(var_dic_list())"
    },
    "r": {
     "delete_cmd_postfix": ") ",
     "delete_cmd_prefix": "rm(",
     "library": "var_list.r",
     "varRefreshCmd": "cat(var_dic_list()) "
    }
   },
   "types_to_exclude": [
    "module",
    "function",
    "builtin_function_or_method",
    "instance",
    "_Feature"
   ],
   "window_display": false
  }
 },
 "nbformat": 4,
 "nbformat_minor": 5
}
