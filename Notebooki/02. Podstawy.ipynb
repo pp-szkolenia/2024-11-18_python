{
 "cells": [
  {
   "cell_type": "markdown",
   "id": "c59945b5",
   "metadata": {},
   "source": [
    "# Podstawy"
   ]
  },
  {
   "cell_type": "markdown",
   "id": "2c7f84ae",
   "metadata": {},
   "source": [
    "## Definiowanie zmiennych\n",
    "\n",
    "Tworzenie zmiennych to sposób na przechowywanie wartości w pamięci komputera w celu ich późniejszego wykorzystania.\n",
    "\n",
    "Wartość po prawej stronie znaku `=` zostanie przypisana do nazwy po lewej stronie."
   ]
  },
  {
   "cell_type": "code",
   "execution_count": null,
   "id": "f81e12f7",
   "metadata": {},
   "outputs": [],
   "source": [
    "task_description = \"Learn Python\"\n",
    "task_description"
   ]
  },
  {
   "cell_type": "code",
   "execution_count": null,
   "id": "7d46acc7",
   "metadata": {},
   "outputs": [],
   "source": [
    "assignee = 'Andrzej'\n",
    "assignee"
   ]
  },
  {
   "cell_type": "code",
   "execution_count": null,
   "id": "6856681b",
   "metadata": {},
   "outputs": [],
   "source": [
    "assignee = 'Andżela'\n",
    "assignee"
   ]
  },
  {
   "cell_type": "code",
   "execution_count": null,
   "id": "67f68e90",
   "metadata": {},
   "outputs": [],
   "source": [
    "long_task_description = \"\"\"Learn basics of Python, including:\n",
    "- variables defining\n",
    "- data structures\n",
    "- conditional instructions\n",
    "\"\"\"\n",
    "\n",
    "long_task_description"
   ]
  },
  {
   "cell_type": "code",
   "execution_count": null,
   "id": "79e18c47",
   "metadata": {},
   "outputs": [],
   "source": [
    "priority = 1\n",
    "priority"
   ]
  },
  {
   "cell_type": "code",
   "execution_count": null,
   "id": "73bbaef1",
   "metadata": {},
   "outputs": [],
   "source": [
    "time_logged = 6.75\n",
    "time_logged"
   ]
  },
  {
   "cell_type": "code",
   "execution_count": null,
   "id": "a9177d03",
   "metadata": {},
   "outputs": [],
   "source": [
    "is_completed = True\n",
    "is_completed"
   ]
  },
  {
   "cell_type": "code",
   "execution_count": null,
   "id": "579b9bba",
   "metadata": {},
   "outputs": [],
   "source": [
    "due_date = None\n",
    "due_date"
   ]
  },
  {
   "cell_type": "markdown",
   "id": "7e72a508",
   "metadata": {},
   "source": [
    "---"
   ]
  },
  {
   "cell_type": "code",
   "execution_count": null,
   "id": "d640a5cb",
   "metadata": {},
   "outputs": [],
   "source": [
    "PI = 3.1415926"
   ]
  },
  {
   "cell_type": "markdown",
   "id": "25b34037",
   "metadata": {},
   "source": [
    "**Definiowanie zmiennych – podsumowanie:**\n",
    "\n",
    "- Do utworzenia zmiennej potrzebne są: **nazwa zmiennej, operator przypisania (znak równości) oraz wartość zmiennej**\n",
    "- Nazwa zmiennej może zawierać tylko litery, cyfry oraz znak _ . Nie może zaczynać się od cyfry\n",
    "- Aby utworzyć zmienną typu tekstowego (string) należy podać wartość w apostrofach lub cudzysłowach\n",
    "- Separatorem dziesiętnym w liczbach niecałkowitych jest kropka\n",
    "- Istnieje specjalny typ zmiennej służący do przechowywania braku wartości - **None**\n",
    "- Jeśli chcemy utworzyć tzw. stałą czyli zmienną, której wartość nie powinna ulec zmianie to zgodnie z konwencją używamy do tego wielkich liter"
   ]
  },
  {
   "cell_type": "markdown",
   "id": "3ecf6477",
   "metadata": {},
   "source": [
    "> *Cały kod, w tym również nazwy zmiennych, powinien być pisany po angielsku*\n",
    "\n",
    "> *Nie używaj przypadkowych nazw zmiennych. Nazwa powinna tłumaczyć jaką informację przechowuje zmienna*\n",
    "\n",
    "> *Lepiej poświęcić kilka sekund na wybranie odpowiedniej nazwy zmiennej niż kilka minut żeby zorientować się co robi dany kod*"
   ]
  },
  {
   "cell_type": "markdown",
   "id": "1fd673b6",
   "metadata": {},
   "source": [
    "## Komentarze\n",
    "\n",
    "Komentarze nie są wykonywane przez interpeter. Mogą spełniać takie funkcje jak:\n",
    "- pozostawienie notatki na przyszłość\n",
    "- opis zadania do wykonania w danym miejscu\n",
    "- tymczasowe wyłączenie części kodu z użycia"
   ]
  },
  {
   "cell_type": "code",
   "execution_count": null,
   "id": "a226abac",
   "metadata": {},
   "outputs": [],
   "source": [
    "due_date = None  # set due date in the future"
   ]
  },
  {
   "cell_type": "code",
   "execution_count": null,
   "id": "90627cad",
   "metadata": {},
   "outputs": [],
   "source": [
    "# TODO: implement adding comments to tasks"
   ]
  },
  {
   "cell_type": "code",
   "execution_count": null,
   "id": "3a2cf459",
   "metadata": {},
   "outputs": [],
   "source": [
    "task_description = \"Learn Python\"\n",
    "assignee = 'Andrzej'\n",
    "# priority = 1\n",
    "# time_logged = 6.75\n",
    "# is_completed = True"
   ]
  },
  {
   "cell_type": "markdown",
   "id": "3f6f9de6",
   "metadata": {},
   "source": [
    "W Pythonie nie istnieją komentarze blokowe. Ich rolę w pewnych sytuacjach spełniają wielolinijkowe stringi."
   ]
  },
  {
   "cell_type": "code",
   "execution_count": null,
   "id": "834fe25d",
   "metadata": {},
   "outputs": [],
   "source": [
    "task_description = \"Learn Python\"\n",
    "assignee = 'Andrzej'\n",
    "\n",
    "\"\"\"\n",
    "priority = 1\n",
    "time_logged = 6.75\n",
    "is_completed = True\n",
    "\"\"\""
   ]
  },
  {
   "cell_type": "markdown",
   "id": "bf26a3e6",
   "metadata": {},
   "source": [
    "Komentarzy **nie należy** nadużywać. Nie komentuj oczywistego kodu!"
   ]
  },
  {
   "cell_type": "code",
   "execution_count": null,
   "id": "edb67cc4",
   "metadata": {},
   "outputs": [],
   "source": [
    "task_description = \"Learn Python\"  # create variable for task description\n",
    "assignee = 'Andrzej'  # create variable for assignee"
   ]
  },
  {
   "cell_type": "markdown",
   "id": "283316a8",
   "metadata": {},
   "source": [
    "W wielu edytorach można zakomentować zaznaczone linie za pomocą **skrótu klawiszowego** Ctrl+ /"
   ]
  },
  {
   "cell_type": "markdown",
   "id": "01d33d40",
   "metadata": {},
   "source": [
    "**Komentarze – podsumowanie:**\n",
    "\n",
    "- Fragment kodu (tekstu), który znajduje się na prawo od znaku # jest komentarzem i nie jest przetwarzany przez interpreter\n",
    "- W komentarzach mogą znajdować się na przykład notatki lub tymczasowo nieużywany kod. Nie powinniśmy jednak ich nadużywać. Dobry kod nie wymaga komentarzy aby wiedzieć co się w nim dzieje\n",
    "- W Pythonie nie istnieją komentarze blokowe, ale ich rolę spełniają wielolinijkowe stringi, które zapisujemy wewnątrz ''' ... ''' lub \"\"\" ... \"\"\""
   ]
  },
  {
   "cell_type": "markdown",
   "id": "85e2eca9",
   "metadata": {},
   "source": [
    "## Typy\n",
    "\n",
    "Każdy obiekt w Pythonie jest określonego typu. Typ determinuje to, jakie operacje możemy wykonywać na danym obiekcie.\n",
    "\n",
    "Typy nazywamy również **klasami**. Te pojęcia w praktyce oznaczają w Pythonie to samo."
   ]
  },
  {
   "cell_type": "code",
   "execution_count": null,
   "id": "ab1341e4",
   "metadata": {},
   "outputs": [],
   "source": [
    "type(task_description)"
   ]
  },
  {
   "cell_type": "code",
   "execution_count": null,
   "id": "feefba96",
   "metadata": {},
   "outputs": [],
   "source": [
    "type(priority)"
   ]
  },
  {
   "cell_type": "code",
   "execution_count": null,
   "id": "791dc34b",
   "metadata": {},
   "outputs": [],
   "source": [
    "type(time_logged)"
   ]
  },
  {
   "cell_type": "code",
   "execution_count": null,
   "id": "aa36013b",
   "metadata": {},
   "outputs": [],
   "source": [
    "type(is_completed)"
   ]
  },
  {
   "cell_type": "code",
   "execution_count": null,
   "id": "9951d830",
   "metadata": {},
   "outputs": [],
   "source": [
    "type(due_date)"
   ]
  },
  {
   "cell_type": "code",
   "execution_count": null,
   "id": "6adb279a",
   "metadata": {},
   "outputs": [],
   "source": [
    "type(str)"
   ]
  },
  {
   "cell_type": "markdown",
   "id": "dd63901d",
   "metadata": {},
   "source": [
    "---\n",
    "\n",
    "Obiekty da się rzutować na inne typy (o ile to możliwe)."
   ]
  },
  {
   "cell_type": "code",
   "execution_count": null,
   "id": "022ce7e4",
   "metadata": {},
   "outputs": [],
   "source": [
    "str(priority)"
   ]
  },
  {
   "cell_type": "code",
   "execution_count": null,
   "id": "461866ee",
   "metadata": {},
   "outputs": [],
   "source": [
    "float(priority)"
   ]
  },
  {
   "cell_type": "code",
   "execution_count": null,
   "id": "ea691b36",
   "metadata": {},
   "outputs": [],
   "source": [
    "int(time_logged)"
   ]
  },
  {
   "cell_type": "code",
   "execution_count": null,
   "id": "45f23ef0",
   "metadata": {},
   "outputs": [],
   "source": [
    "int(is_completed)"
   ]
  },
  {
   "cell_type": "code",
   "execution_count": null,
   "id": "754f0a72",
   "metadata": {},
   "outputs": [],
   "source": [
    "int(\"123\")"
   ]
  },
  {
   "cell_type": "code",
   "execution_count": null,
   "id": "b936f4b4",
   "metadata": {},
   "outputs": [],
   "source": [
    "float(\"12.3\")"
   ]
  },
  {
   "cell_type": "code",
   "execution_count": null,
   "id": "02f37d80",
   "metadata": {},
   "outputs": [],
   "source": [
    "int(assignee)"
   ]
  },
  {
   "cell_type": "markdown",
   "id": "6945d6d0",
   "metadata": {},
   "source": [
    "---"
   ]
  },
  {
   "cell_type": "code",
   "execution_count": null,
   "id": "db7a122a",
   "metadata": {},
   "outputs": [],
   "source": [
    "isinstance(task_description, str)"
   ]
  },
  {
   "cell_type": "code",
   "execution_count": null,
   "id": "e1dfbb29",
   "metadata": {},
   "outputs": [],
   "source": [
    "isinstance(is_completed, float)"
   ]
  },
  {
   "cell_type": "code",
   "execution_count": null,
   "id": "d415002b",
   "metadata": {},
   "outputs": [],
   "source": [
    "isinstance(assignee, int)"
   ]
  },
  {
   "cell_type": "code",
   "execution_count": null,
   "id": "f5781df8",
   "metadata": {},
   "outputs": [],
   "source": [
    "isinstance(is_completed, bool)"
   ]
  },
  {
   "cell_type": "code",
   "execution_count": null,
   "id": "aab72ac5",
   "metadata": {},
   "outputs": [],
   "source": [
    "isinstance(is_completed, int)"
   ]
  },
  {
   "cell_type": "code",
   "execution_count": null,
   "id": "231a36dc",
   "metadata": {},
   "outputs": [],
   "source": [
    "issubclass(bool, int)"
   ]
  },
  {
   "cell_type": "markdown",
   "id": "8a15124b",
   "metadata": {},
   "source": [
    "**Typy – podsumowanie:**\n",
    "\n",
    "- Każdy obiekt w Pythonie ma określony typ\n",
    "- Aby sprawdzić jaki on jest, używamy funkcji `type`\n",
    "- Najczęściej spotykane typy zmiennych to: *string*, *int*, *float*, *bool*\n",
    "- Aby zmienić typ obiektu (o ile to możliwe) możemy dokonać **rzutowania**\n",
    "- Aby sprawdzić czy jakiś obiekt jest określonego typu, używamy funkcji `isinstance`"
   ]
  },
  {
   "cell_type": "markdown",
   "id": "278c9f47",
   "metadata": {},
   "source": [
    "## Funkcje wbudowane\n",
    "W Pythonie istnieje cały szereg wbudowanych funkcji. Funkcja to kawałek programu, który wykonuje określone zadanie. Funkcję możemy rozpoznać po **nawiasach okrągłych**, które pojawiają się przy jej **wywołaniu**. Przykładowe funkcje wbudowane to:\n",
    "\n",
    "### Funkcja `print`\n",
    "\n",
    "Służy do **wypisania na ekranie** jednej lub więcej wartości."
   ]
  },
  {
   "cell_type": "code",
   "execution_count": null,
   "id": "f22faf29",
   "metadata": {
    "scrolled": true
   },
   "outputs": [],
   "source": [
    "print(task_description)"
   ]
  },
  {
   "cell_type": "code",
   "execution_count": null,
   "id": "23667c4d",
   "metadata": {},
   "outputs": [],
   "source": [
    "print(priority)"
   ]
  },
  {
   "cell_type": "code",
   "execution_count": null,
   "id": "d8deceeb",
   "metadata": {},
   "outputs": [],
   "source": [
    "print(task_description)\n",
    "print(priority)\n",
    "print(is_completed)"
   ]
  },
  {
   "cell_type": "code",
   "execution_count": null,
   "id": "d50b6a49",
   "metadata": {},
   "outputs": [],
   "source": [
    "print(task_description, priority, is_completed)"
   ]
  },
  {
   "cell_type": "code",
   "execution_count": null,
   "id": "b055c02c",
   "metadata": {
    "scrolled": true
   },
   "outputs": [],
   "source": [
    "print(\"Learn basics of Python including:\\n- variables defining\\n- data structures\\n\\t- conditional instructions\")"
   ]
  },
  {
   "cell_type": "markdown",
   "id": "919a3592",
   "metadata": {},
   "source": [
    "W konsoli oraz w Jupyter Notebooku nie musimy używać `print`, żeby wartość wpisanego wyrażenia została wyświetlona."
   ]
  },
  {
   "cell_type": "markdown",
   "id": "5036b594",
   "metadata": {},
   "source": [
    "### Funkcja `len`\n",
    "\n",
    "Funkcja `len` **zwraca** długość przekazanej do niej sekwencji, np. stringa."
   ]
  },
  {
   "cell_type": "code",
   "execution_count": null,
   "id": "ace9b82f",
   "metadata": {},
   "outputs": [],
   "source": [
    "assignee"
   ]
  },
  {
   "cell_type": "code",
   "execution_count": null,
   "id": "427fb4c5",
   "metadata": {},
   "outputs": [],
   "source": [
    "len(assignee)"
   ]
  },
  {
   "cell_type": "markdown",
   "id": "e0cd1c28",
   "metadata": {},
   "source": [
    "Jeżeli funkcja coś **zwraca**, możemy to **przechwycić** (ang. *capture*). Mechanizm ten polega na przypisaniu wartości zwracanej do zmiennej."
   ]
  },
  {
   "cell_type": "code",
   "execution_count": null,
   "id": "6f234fd4",
   "metadata": {},
   "outputs": [],
   "source": [
    "length_of_assignee_username = len(assignee)\n",
    "length_of_assignee_username"
   ]
  },
  {
   "cell_type": "markdown",
   "id": "a425570e",
   "metadata": {},
   "source": [
    "Nie musimy jednak zawsze przechwytywać wartości zwracanej. Możemy użyć jej bezpośrednio:"
   ]
  },
  {
   "cell_type": "code",
   "execution_count": null,
   "id": "e86eb289",
   "metadata": {},
   "outputs": [],
   "source": [
    "print(\"Length of the username:\", len(assignee))"
   ]
  },
  {
   "cell_type": "markdown",
   "id": "d1e6c607",
   "metadata": {},
   "source": [
    "`len` działa również dla struktur danych - o tym później.\n",
    "\n",
    "### Funkcja `round`"
   ]
  },
  {
   "cell_type": "code",
   "execution_count": null,
   "id": "ad0a8a4d",
   "metadata": {},
   "outputs": [],
   "source": [
    "time_logged"
   ]
  },
  {
   "cell_type": "code",
   "execution_count": null,
   "id": "9d9dad70",
   "metadata": {},
   "outputs": [],
   "source": [
    "round(time_logged)"
   ]
  },
  {
   "cell_type": "code",
   "execution_count": null,
   "id": "f75eaa37",
   "metadata": {},
   "outputs": [],
   "source": [
    "round(time_logged, 1)"
   ]
  },
  {
   "cell_type": "markdown",
   "id": "9d7e0f3a",
   "metadata": {},
   "source": [
    "Więcej funkcji wbudowanych można znaleźć w [dokumentacji](https://docs.python.org/3/library/functions.html) Pythona."
   ]
  },
  {
   "cell_type": "markdown",
   "id": "1be65632",
   "metadata": {},
   "source": [
    "**Funkcje wbudowane – podsumowanie:**\n",
    "\n",
    "- Funkcja to fragment kodu, który wykonuje określone zadanie podczas jej wywołania\n",
    "- Python umożliwia pisanie własnych funkcji, ale oferuje również cały szereg funkcji wbudowanych\n",
    "- Funkcja `print` służy do wypisania na ekranie przekazanej do niej wartości\n",
    "- Funkcja `len` służy do sprawdzenia liczby elementów w obiekcie, który jest sekwencją, np. łańcuchem znaków albo strukturą danych\n",
    "- Funkcja `round` służy do zaokrąglania liczb posiadających rozwinięcie dziesiętne\n",
    "- Powyższe przykłady to tylko nieliczne spośród funkcji wbudowanych Pythona"
   ]
  },
  {
   "cell_type": "markdown",
   "id": "fce5a1ce",
   "metadata": {},
   "source": [
    "## Operacje arytmetyczne"
   ]
  },
  {
   "cell_type": "code",
   "execution_count": null,
   "id": "098dd4f6",
   "metadata": {},
   "outputs": [],
   "source": [
    "2 + 2"
   ]
  },
  {
   "cell_type": "code",
   "execution_count": null,
   "id": "44686236",
   "metadata": {},
   "outputs": [],
   "source": [
    "3 - 1"
   ]
  },
  {
   "cell_type": "code",
   "execution_count": null,
   "id": "1fa90956",
   "metadata": {},
   "outputs": [],
   "source": [
    "5 / 2"
   ]
  },
  {
   "cell_type": "code",
   "execution_count": null,
   "id": "e7c51f56",
   "metadata": {},
   "outputs": [],
   "source": [
    "3 * 4"
   ]
  },
  {
   "cell_type": "code",
   "execution_count": null,
   "id": "3d539d21",
   "metadata": {},
   "outputs": [],
   "source": [
    "13 % 5"
   ]
  },
  {
   "cell_type": "code",
   "execution_count": null,
   "id": "586a9e06",
   "metadata": {},
   "outputs": [],
   "source": [
    "2 ** 3"
   ]
  },
  {
   "cell_type": "code",
   "execution_count": null,
   "id": "821792fd",
   "metadata": {},
   "outputs": [],
   "source": [
    "number_of_comments = 5\n",
    "\n",
    "# user added a comment\n",
    "\n",
    "number_of_comments = number_of_comments + 1\n",
    "number_of_comments"
   ]
  },
  {
   "cell_type": "markdown",
   "id": "f7a499f0",
   "metadata": {},
   "source": [
    "Zwiększenie wartości zmiennej o 1 nazywamy **inkrementacją**. Jej zmniejszenie o 1 nazywamy **dekrementacją**."
   ]
  },
  {
   "cell_type": "code",
   "execution_count": null,
   "id": "55593c6a",
   "metadata": {},
   "outputs": [],
   "source": [
    "number_of_comments += 1  # another comment added\n",
    "number_of_comments"
   ]
  },
  {
   "cell_type": "code",
   "execution_count": null,
   "id": "3c64f733",
   "metadata": {},
   "outputs": [],
   "source": [
    "x = 10\n",
    "\n",
    "x += 2    # x = x + 2\n",
    "x -= 4    # x = x - 4\n",
    "x *= 2    # x = x * 2\n",
    "x /= 3.5  # x = x / 3.5\n",
    "\n",
    "x"
   ]
  },
  {
   "cell_type": "markdown",
   "id": "7a70be04",
   "metadata": {},
   "source": [
    "**Operacje arytmetyczne – podsumowanie:**\n",
    "\n",
    "- Python dysponuje standardowymi operatorami arytmetycznymi (+, -, *, /) a także innymi, takimi jak % czy **\n",
    "- Aby zmienić wartość zmiennej należy użyć operatora przypisania, czyli =\n",
    "- Istnieją specjalne operatory (+=, -=, *=, /=) skracające zapis kiedy chcemy zmodyfikować wartość zmiennej poprzez np. dodanie czy odjęcie od niej wartości\n",
    "- Zwiększenie wartości zmiennej o 1 nazywamy **inkrementacją**. Zmniejszenie jej o 1 nazywamy **dekrementacją**"
   ]
  },
  {
   "cell_type": "markdown",
   "id": "cc6638dd",
   "metadata": {},
   "source": [
    "> **ZADANIA**"
   ]
  },
  {
   "cell_type": "markdown",
   "id": "f974edc4",
   "metadata": {},
   "source": [
    "## Operacje na stringach\n",
    "\n",
    "Na wszystkich obiektach typu string możemy wywoływać pewne funkcje (tzw. metody) specyficzne dla tej klasy.\n",
    "\n",
    "Składnia jest następująca:\n",
    "\n",
    "`<object>.<method_name>()`"
   ]
  },
  {
   "cell_type": "code",
   "execution_count": null,
   "id": "cae59a7b",
   "metadata": {
    "scrolled": true
   },
   "outputs": [],
   "source": [
    "task_description = \"Learn Python and do some exercises\"\n",
    "task_description"
   ]
  },
  {
   "cell_type": "code",
   "execution_count": null,
   "id": "de153826",
   "metadata": {},
   "outputs": [],
   "source": [
    "task_description.lower()"
   ]
  },
  {
   "cell_type": "code",
   "execution_count": null,
   "id": "6078f5c0",
   "metadata": {},
   "outputs": [],
   "source": [
    "task_description.upper()"
   ]
  },
  {
   "cell_type": "code",
   "execution_count": null,
   "id": "27cf751b",
   "metadata": {},
   "outputs": [],
   "source": [
    "task_description.startswith('Learn')"
   ]
  },
  {
   "cell_type": "code",
   "execution_count": null,
   "id": "a47234d3",
   "metadata": {},
   "outputs": [],
   "source": [
    "task_description.endswith('Python')"
   ]
  },
  {
   "cell_type": "code",
   "execution_count": null,
   "id": "166aec5a",
   "metadata": {},
   "outputs": [],
   "source": [
    "task_description.replace(\"Python\", \"JavaScript\")"
   ]
  },
  {
   "cell_type": "code",
   "execution_count": null,
   "id": "b589e17f",
   "metadata": {},
   "outputs": [],
   "source": [
    "\"  hello  \\n \".strip()"
   ]
  },
  {
   "cell_type": "markdown",
   "id": "6504a336",
   "metadata": {},
   "source": [
    "Wartość zmiennej pozostaje cały czas taka sama"
   ]
  },
  {
   "cell_type": "code",
   "execution_count": null,
   "id": "8b348825",
   "metadata": {},
   "outputs": [],
   "source": [
    "task_description"
   ]
  },
  {
   "cell_type": "markdown",
   "id": "52c35d4e",
   "metadata": {},
   "source": [
    "---\n",
    "\n",
    "Możemy wyciągnąć ze stringa poszczególne znaki lub ich przedziały poprzez **indeksację** (inna nazwa – **slicing**)."
   ]
  },
  {
   "cell_type": "code",
   "execution_count": null,
   "id": "b9cdb8e9",
   "metadata": {},
   "outputs": [],
   "source": [
    "task_description[0]"
   ]
  },
  {
   "cell_type": "code",
   "execution_count": null,
   "id": "ff8cecc7",
   "metadata": {},
   "outputs": [],
   "source": [
    "task_description[8]"
   ]
  },
  {
   "cell_type": "code",
   "execution_count": null,
   "id": "2dd93783",
   "metadata": {},
   "outputs": [],
   "source": [
    "task_description[11]"
   ]
  },
  {
   "cell_type": "code",
   "execution_count": null,
   "id": "ece1e6e6",
   "metadata": {},
   "outputs": [],
   "source": [
    "task_description[12]"
   ]
  },
  {
   "cell_type": "code",
   "execution_count": null,
   "id": "5f149ec2",
   "metadata": {},
   "outputs": [],
   "source": [
    "task_description[6:12]"
   ]
  },
  {
   "cell_type": "code",
   "execution_count": null,
   "id": "2f44df95",
   "metadata": {},
   "outputs": [],
   "source": [
    "task_description[6:]"
   ]
  },
  {
   "cell_type": "code",
   "execution_count": null,
   "id": "1995a88d",
   "metadata": {},
   "outputs": [],
   "source": [
    "task_description[:6]"
   ]
  },
  {
   "cell_type": "code",
   "execution_count": null,
   "id": "cd90821e",
   "metadata": {},
   "outputs": [],
   "source": [
    "\"Learn\" + \" \" + \"Python\" + \" \" + \"and\" + \" do some exercises\""
   ]
  },
  {
   "cell_type": "markdown",
   "id": "6b2f946d",
   "metadata": {},
   "source": [
    "---\n",
    "\n",
    "Aby wewnątrz stringa wstawić wartość dowolnej zmiennej (lub całe wyrażenie) możemy użyć tzw. f-stringa"
   ]
  },
  {
   "cell_type": "code",
   "execution_count": null,
   "id": "815260a6",
   "metadata": {},
   "outputs": [],
   "source": [
    "language_to_learn = \"Python\"\n",
    "\n",
    "f\"Learn {language_to_learn} for at least 1 hour\""
   ]
  },
  {
   "cell_type": "code",
   "execution_count": null,
   "id": "173c82b5",
   "metadata": {},
   "outputs": [],
   "source": [
    "f\"2 + 2 = {2+2}\""
   ]
  },
  {
   "cell_type": "markdown",
   "id": "7135a130",
   "metadata": {},
   "source": [
    "**Operacje na stringach – podsumowanie:**\n",
    "\n",
    "- Na obiektach typu string możemy wykonać cały szereg różnych funkcji (metod), które zwracają zmodyfikowaną zawartość tego stringa. Nie nadpisują one jednak oryginalnego obiektu\n",
    "- Ze stringa możemy wyciągać tzw. slice'y czyli wycinki wyznaczone na podstawie indeksów poszczególnych znaków. Indeksy te przekazujemy w nawiasach kwadratowych a dla oznaczenia przedziału używamy dwukropka\n",
    "- Stringi możemy dodawać używając operatora +\n",
    "- Aby wewnątrz stringa wstawić wartość dowolnego wyrażenia, używamy tzw. f-stringa"
   ]
  },
  {
   "cell_type": "markdown",
   "id": "da0896db",
   "metadata": {},
   "source": [
    "## Funkcja `input()`\n",
    "\n",
    "Jeżeli chcemy przechwycić od użytkownika jakieś informacje wejściowe, używamy funkcji `input()`.\n",
    "\n",
    "Funkcja `input()` **zawsze zwraca stringa**! Jeżeli chcesz przechwycić liczbę, należy wykonać **rzutowanie typu**."
   ]
  },
  {
   "cell_type": "code",
   "execution_count": null,
   "id": "e94ec3c3",
   "metadata": {
    "scrolled": true
   },
   "outputs": [],
   "source": [
    "task_description = input(\"Insert task description: \")\n",
    "priority = input(\"Insert task priority: \")"
   ]
  },
  {
   "cell_type": "code",
   "execution_count": null,
   "id": "19cf064b",
   "metadata": {},
   "outputs": [],
   "source": [
    "task_description"
   ]
  },
  {
   "cell_type": "code",
   "execution_count": null,
   "id": "4bc051c8",
   "metadata": {},
   "outputs": [],
   "source": [
    "priority"
   ]
  },
  {
   "cell_type": "code",
   "execution_count": null,
   "id": "7ee2b063",
   "metadata": {},
   "outputs": [],
   "source": [
    "priority = input(\"Insert task priority: \")"
   ]
  },
  {
   "cell_type": "code",
   "execution_count": null,
   "id": "e407e051",
   "metadata": {},
   "outputs": [],
   "source": [
    "priority"
   ]
  },
  {
   "cell_type": "code",
   "execution_count": null,
   "id": "e4980442",
   "metadata": {},
   "outputs": [],
   "source": [
    "priority = int(input(\"Insert task priority: \"))"
   ]
  },
  {
   "cell_type": "code",
   "execution_count": null,
   "id": "607d00a7",
   "metadata": {
    "scrolled": true
   },
   "outputs": [],
   "source": [
    "priority"
   ]
  },
  {
   "cell_type": "markdown",
   "id": "ee754f70",
   "metadata": {},
   "source": [
    "> *ERROR ALERT*\n",
    "\n",
    "Każdy przechwycony w ten sposób tekst jest stringiem, nawet jeśli przekazaliśmy liczbę.\n",
    "\n",
    "Pytanie - *jak można poprawić poniższy kod*?"
   ]
  },
  {
   "cell_type": "code",
   "execution_count": null,
   "id": "2c1b89c5",
   "metadata": {},
   "outputs": [],
   "source": [
    "my_input = input(\"Enter a number: \")\n",
    "\n",
    "my_input + 1"
   ]
  },
  {
   "cell_type": "markdown",
   "id": "c924236e",
   "metadata": {},
   "source": [
    "**Funkcja input – podsumowanie:**\n",
    "\n",
    "- Aby przechwycić od użytkownika programu jakąś wartość używamy funkcji `input()`\n",
    "- Funkcja ta zawsze zwraca stringa"
   ]
  },
  {
   "cell_type": "markdown",
   "id": "b02215a7",
   "metadata": {},
   "source": [
    "> **ZADANIA**"
   ]
  }
 ],
 "metadata": {
  "kernelspec": {
   "display_name": "Python 3 (ipykernel)",
   "language": "python",
   "name": "python3"
  },
  "language_info": {
   "codemirror_mode": {
    "name": "ipython",
    "version": 3
   },
   "file_extension": ".py",
   "mimetype": "text/x-python",
   "name": "python",
   "nbconvert_exporter": "python",
   "pygments_lexer": "ipython3",
   "version": "3.12.7"
  },
  "toc": {
   "base_numbering": 1,
   "nav_menu": {},
   "number_sections": true,
   "sideBar": true,
   "skip_h1_title": true,
   "title_cell": "Table of Contents",
   "title_sidebar": "Contents",
   "toc_cell": false,
   "toc_position": {},
   "toc_section_display": true,
   "toc_window_display": false
  },
  "varInspector": {
   "cols": {
    "lenName": 16,
    "lenType": 16,
    "lenVar": 40
   },
   "kernels_config": {
    "python": {
     "delete_cmd_postfix": "",
     "delete_cmd_prefix": "del ",
     "library": "var_list.py",
     "varRefreshCmd": "print(var_dic_list())"
    },
    "r": {
     "delete_cmd_postfix": ") ",
     "delete_cmd_prefix": "rm(",
     "library": "var_list.r",
     "varRefreshCmd": "cat(var_dic_list()) "
    }
   },
   "types_to_exclude": [
    "module",
    "function",
    "builtin_function_or_method",
    "instance",
    "_Feature"
   ],
   "window_display": false
  }
 },
 "nbformat": 4,
 "nbformat_minor": 5
}
