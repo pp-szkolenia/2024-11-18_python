{
 "cells": [
  {
   "cell_type": "markdown",
   "id": "3e1cfbf2-d7c4-481d-ab30-a4c5830d11cc",
   "metadata": {},
   "source": [
    "# psycopg\n",
    "\n",
    "Zrobić tabelę tasks\n",
    "\n",
    "description\n",
    "\n",
    "assignee\n",
    "\n",
    "is_completed"
   ]
  },
  {
   "cell_type": "code",
   "execution_count": 1,
   "id": "56ee58ca-58ea-403a-8b23-32291ac70a6b",
   "metadata": {},
   "outputs": [],
   "source": [
    "import psycopg"
   ]
  },
  {
   "cell_type": "code",
   "execution_count": 2,
   "id": "1be55740-6e28-4034-ab5a-9bcd5609bb93",
   "metadata": {},
   "outputs": [],
   "source": [
    "conn = psycopg.connect( \n",
    "    host=\"localhost\",\n",
    "    port=5432,\n",
    "    dbname=\"postgres\",\n",
    "    user=\"postgres\",\n",
    "    password=\"postgres\")"
   ]
  },
  {
   "cell_type": "code",
   "execution_count": 3,
   "id": "5a4b26eb-8730-4aa9-b74a-f9021a4abe69",
   "metadata": {},
   "outputs": [],
   "source": [
    "cursor = conn.cursor()"
   ]
  },
  {
   "cell_type": "markdown",
   "id": "11467276-e256-467e-889f-ed4f78f9de80",
   "metadata": {},
   "source": [
    "## CREATE"
   ]
  },
  {
   "cell_type": "code",
   "execution_count": 81,
   "id": "86736066-a58c-4328-bcbf-1440c19a12c6",
   "metadata": {},
   "outputs": [],
   "source": [
    "create_query = \"\"\"CREATE TABLE test(\n",
    "a INTEGER,\n",
    "b TEXT\n",
    ");\n",
    "\"\"\""
   ]
  },
  {
   "cell_type": "code",
   "execution_count": null,
   "id": "f544d7f4-1d1a-4156-ba0e-546d0a4edbc7",
   "metadata": {},
   "outputs": [],
   "source": [
    "cursor.execute(create_query)"
   ]
  },
  {
   "cell_type": "code",
   "execution_count": 49,
   "id": "c5b0df17-7122-4610-b5e0-5cfd1428d1f4",
   "metadata": {},
   "outputs": [],
   "source": [
    "conn.commit()"
   ]
  },
  {
   "cell_type": "markdown",
   "id": "a268cc54-20e7-446b-8ffc-b743b0e375fa",
   "metadata": {},
   "source": [
    "## INSERT"
   ]
  },
  {
   "cell_type": "code",
   "execution_count": 50,
   "id": "2d9c826d-aa05-4a44-a552-2991131b7336",
   "metadata": {},
   "outputs": [],
   "source": [
    "insert_query = \"INSERT INTO test1 VALUES(1, 'abc')\"\n",
    "\n",
    "cursor.execute(insert_query)\n",
    "\n",
    "int_value = 2\n",
    "str_value = \"def\"\n",
    "\n",
    "cursor.execute(\"INSERT INTO test1 VALUES(%s, %s)\", (int_value, str_value))"
   ]
  },
  {
   "cell_type": "code",
   "execution_count": 36,
   "id": "07f5a57c-d929-46ad-a343-2952f49e893c",
   "metadata": {},
   "outputs": [],
   "source": [
    "# query = sql.SQL(\"INSERT INTO test VALUES({int_value}, {str_value})\").format(int_value=3, str_value=\"xyz\")\n",
    "# query.as_string()"
   ]
  },
  {
   "cell_type": "code",
   "execution_count": 52,
   "id": "7a582bbf-a645-4569-b870-ac073c3d1b37",
   "metadata": {},
   "outputs": [],
   "source": [
    "conn.commit()"
   ]
  },
  {
   "cell_type": "markdown",
   "id": "0afa7e60-8541-497d-811e-b3d2782883b7",
   "metadata": {},
   "source": [
    "## SELECT"
   ]
  },
  {
   "cell_type": "code",
   "execution_count": 68,
   "id": "40b0a47c-539b-4d1c-b8a0-27e7a17c36e8",
   "metadata": {},
   "outputs": [],
   "source": [
    "select_query = \"SELECT * FROM test1\"\n",
    "\n",
    "cursor.execute(select_query)"
   ]
  },
  {
   "cell_type": "code",
   "execution_count": 76,
   "id": "c95da035-0bac-494c-9da2-75396033265b",
   "metadata": {},
   "outputs": [],
   "source": [
    "results = cursor.fetchone()"
   ]
  },
  {
   "cell_type": "code",
   "execution_count": 77,
   "id": "a6e55bc9-1660-49b1-910b-83101c88304f",
   "metadata": {},
   "outputs": [],
   "source": [
    "results"
   ]
  }
 ],
 "metadata": {
  "kernelspec": {
   "display_name": "Python 3 (ipykernel)",
   "language": "python",
   "name": "python3"
  },
  "language_info": {
   "codemirror_mode": {
    "name": "ipython",
    "version": 3
   },
   "file_extension": ".py",
   "mimetype": "text/x-python",
   "name": "python",
   "nbconvert_exporter": "python",
   "pygments_lexer": "ipython3",
   "version": "3.12.7"
  }
 },
 "nbformat": 4,
 "nbformat_minor": 5
}
