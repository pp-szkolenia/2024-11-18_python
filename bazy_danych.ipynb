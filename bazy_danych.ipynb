{
 "cells": [
  {
   "cell_type": "code",
   "execution_count": 24,
   "id": "e7e97632-4f34-4d23-ad5e-74125c31e4e8",
   "metadata": {},
   "outputs": [],
   "source": [
    "import psycopg\n",
    "import sqlite3"
   ]
  },
  {
   "cell_type": "code",
   "execution_count": 23,
   "id": "5b678fff-bb30-4d92-b7ca-1b0a9ba8c849",
   "metadata": {},
   "outputs": [
    {
     "data": {
      "text/plain": [
       "<module 'psycopg' from '/home/patryk/Nextcloud/Szkolenia/Jsystems/2024-11-18_Python_devops/venv/lib/python3.12/site-packages/psycopg/__init__.py'>"
      ]
     },
     "execution_count": 23,
     "metadata": {},
     "output_type": "execute_result"
    }
   ],
   "source": [
    "psycopg"
   ]
  },
  {
   "cell_type": "code",
   "execution_count": 13,
   "id": "9848bdff-c135-4c76-824b-0aeae7238050",
   "metadata": {},
   "outputs": [],
   "source": [
    "conn = psycopg.connect(\n",
    "    host=\"localhost\",\n",
    "    port=5432,\n",
    "    dbname=\"postgres\",\n",
    "    user=\"postgres\",\n",
    "    password=\"postgres\"\n",
    ")\n",
    "\n",
    "\n",
    "conn = sqlite3.connect(\"baza.db\")"
   ]
  },
  {
   "cell_type": "code",
   "execution_count": 15,
   "id": "e300bd0c-2e62-412c-ae14-453a1886a4bd",
   "metadata": {},
   "outputs": [],
   "source": [
    "cursor = conn.cursor()"
   ]
  },
  {
   "cell_type": "markdown",
   "id": "8a9885af-ffe3-4af3-a8f0-f39372a8e542",
   "metadata": {},
   "source": [
    "## CREATE"
   ]
  },
  {
   "cell_type": "code",
   "execution_count": 25,
   "id": "423eafd0-f0b8-474f-8086-565b6957ea6d",
   "metadata": {},
   "outputs": [],
   "source": [
    "create_query = \"\"\"CREATE TABLE tasks(\n",
    "    id SERIAL,\n",
    "    description VARCHAR(20),\n",
    "    priority INTEGER,\n",
    "    is_completed BOOLEAN\n",
    ")\n",
    "\"\"\""
   ]
  },
  {
   "cell_type": "code",
   "execution_count": 26,
   "id": "e398c66f-596f-4e58-a1bf-958690cc4cb5",
   "metadata": {},
   "outputs": [
    {
     "name": "stdout",
     "output_type": "stream",
     "text": [
      "CREATE TABLE tasks(\n",
      "    id SERIAL,\n",
      "    description VARCHAR(20),\n",
      "    priority INTEGER,\n",
      "    is_completed BOOLEAN\n",
      ")\n",
      "\n"
     ]
    }
   ],
   "source": [
    "print(create_query)"
   ]
  },
  {
   "cell_type": "code",
   "execution_count": 20,
   "id": "dee873e4-bc9c-4c56-96dc-ae899d678167",
   "metadata": {},
   "outputs": [
    {
     "data": {
      "text/plain": [
       "<psycopg.Cursor [COMMAND_OK] [INTRANS] (host=localhost database=postgres) at 0x73e9a17a9250>"
      ]
     },
     "execution_count": 20,
     "metadata": {},
     "output_type": "execute_result"
    }
   ],
   "source": [
    "cursor.execute(create_query)\n",
    "conn.commit()"
   ]
  },
  {
   "cell_type": "markdown",
   "id": "713a7323-c8a0-4102-946c-c9b527213236",
   "metadata": {},
   "source": [
    "Rozwiązanie:"
   ]
  },
  {
   "cell_type": "code",
   "execution_count": null,
   "id": "c1b04266-06d6-4b9b-8b99-22ef2028e56f",
   "metadata": {},
   "outputs": [],
   "source": [
    "create_query = \"\"\"CREATE TABLE users(\n",
    "    id SERIAL,\n",
    "    username VARCHAR(20),\n",
    "    password VARCHAR(20),\n",
    "    is_admin BOOLEAN\n",
    ")\n",
    "\"\"\""
   ]
  },
  {
   "cell_type": "markdown",
   "id": "ca3fbaa3-4ca3-43d1-b2c1-76f918c88797",
   "metadata": {},
   "source": [
    "## INSERT"
   ]
  },
  {
   "cell_type": "code",
   "execution_count": 27,
   "id": "86ba2091-43b4-4abb-acca-3f62f55922ed",
   "metadata": {},
   "outputs": [],
   "source": [
    "insert_query = \"INSERT INTO tasks (description, priority, is_completed) VALUES('Opis zadania', 3, false)\"\n",
    "\n",
    "insert_query = \"INSERT INTO tasks (description, priority, is_completed) VALUES('Kolejne zadanie', 2, true)\""
   ]
  },
  {
   "cell_type": "code",
   "execution_count": null,
   "id": "6acfbd5d-7227-4b56-93e4-65a3720279e2",
   "metadata": {},
   "outputs": [],
   "source": []
  }
 ],
 "metadata": {
  "kernelspec": {
   "display_name": "Python 3 (ipykernel)",
   "language": "python",
   "name": "python3"
  },
  "language_info": {
   "codemirror_mode": {
    "name": "ipython",
    "version": 3
   },
   "file_extension": ".py",
   "mimetype": "text/x-python",
   "name": "python",
   "nbconvert_exporter": "python",
   "pygments_lexer": "ipython3",
   "version": "3.12.3"
  }
 },
 "nbformat": 4,
 "nbformat_minor": 5
}
