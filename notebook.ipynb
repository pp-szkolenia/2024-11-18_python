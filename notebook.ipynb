{
 "cells": [
  {
   "cell_type": "markdown",
   "id": "48d1c89e-d1d0-4b34-bc10-f1da2414f7df",
   "metadata": {},
   "source": [
    "```python\n",
    "print(\"hello\")\n",
    "```"
   ]
  },
  {
   "cell_type": "markdown",
   "id": "ea6d17d9-d99f-4c17-aef7-db9125fa5d0a",
   "metadata": {},
   "source": [
    "```\n",
    "Shift + Enter - uruchomienie komórki i przejście do kolejnej\n",
    "Ctrl + Enter - uruchomienie komórki i pozostanie jej\n",
    "Alt + Enter - uruchomienie komórki i utworzenie nowej\n",
    "\n",
    "(tryb poleceń)\n",
    "a - tworzy komórkę powyżej\n",
    "b - tworzy komórkę poniżej\n",
    "strzałki góra/dół - przechodzimy między komórkami\n",
    "x - usuwa komórkę\n",
    "z - cofa usunięcie\n",
    "---\n",
    "\n",
    "Enter - wchodzimy do komórki (do trybu edycji)\n",
    "Escape - wychodzimy z komórki (do trybu poleceń)\n",
    "\n",
    "---\n",
    "\n",
    "m - zmieniamy komórkę na tryb markdown\n",
    "y - zmieniamy komórkę na tryb kod\n",
    "```"
   ]
  },
  {
   "cell_type": "markdown",
   "id": "0412e8ac-40a9-42a4-bb0a-c7e456a7f1e6",
   "metadata": {},
   "source": [
    "- to\n",
    "- jest\n",
    "- markdown"
   ]
  },
  {
   "cell_type": "code",
   "execution_count": 40,
   "id": "1ab967ea-bd80-427c-81ae-1ac216cb046f",
   "metadata": {},
   "outputs": [
    {
     "data": {
      "text/plain": [
       "22"
      ]
     },
     "execution_count": 40,
     "metadata": {},
     "output_type": "execute_result"
    }
   ],
   "source": [
    "a = 22\n",
    "a"
   ]
  },
  {
   "cell_type": "code",
   "execution_count": 21,
   "id": "ba70a0ef-6319-416a-bad1-8038bd707317",
   "metadata": {
    "scrolled": true
   },
   "outputs": [
    {
     "data": {
      "text/plain": [
       "2"
      ]
     },
     "execution_count": 21,
     "metadata": {},
     "output_type": "execute_result"
    }
   ],
   "source": [
    "b = 2\n",
    "b"
   ]
  },
  {
   "cell_type": "code",
   "execution_count": null,
   "id": "6f15cf1e-1f18-465f-a34f-7b54b4d5c109",
   "metadata": {},
   "outputs": [],
   "source": []
  }
 ],
 "metadata": {
  "kernelspec": {
   "display_name": "Python 3 (ipykernel)",
   "language": "python",
   "name": "python3"
  },
  "language_info": {
   "codemirror_mode": {
    "name": "ipython",
    "version": 3
   },
   "file_extension": ".py",
   "mimetype": "text/x-python",
   "name": "python",
   "nbconvert_exporter": "python",
   "pygments_lexer": "ipython3",
   "version": "3.12.3"
  }
 },
 "nbformat": 4,
 "nbformat_minor": 5
}
