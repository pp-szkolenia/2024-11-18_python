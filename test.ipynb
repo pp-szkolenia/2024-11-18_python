{
 "cells": [
  {
   "cell_type": "code",
   "execution_count": 1,
   "id": "0abc69d5-2f5a-43fb-bdf1-bf65ef2aead7",
   "metadata": {},
   "outputs": [],
   "source": [
    "import os"
   ]
  },
  {
   "cell_type": "code",
   "execution_count": 3,
   "id": "7b479a37-3278-49f0-81eb-662c8e90299c",
   "metadata": {},
   "outputs": [
    {
     "data": {
      "text/plain": [
       "[('test_walk', ['users', 'projects', 'tasks'], []),\n",
       " ('test_walk/users', ['admins'], ['user_2.txt', 'user_1.txt']),\n",
       " ('test_walk/users/admins', [], ['admin_1.txt']),\n",
       " ('test_walk/projects',\n",
       "  ['category_2', 'category_3', 'category_1'],\n",
       "  ['readme.txt']),\n",
       " ('test_walk/projects/category_2', [], ['project_2_1.txt']),\n",
       " ('test_walk/projects/category_3', [], []),\n",
       " ('test_walk/projects/category_1', [], ['project_1_1.txt', 'project_1_2.txt']),\n",
       " ('test_walk/tasks', [], ['task3.txt', 'task4.txt', 'task2.txt', 'task1.txt'])]"
      ]
     },
     "execution_count": 3,
     "metadata": {},
     "output_type": "execute_result"
    }
   ],
   "source": [
    "list(os.walk(\"test_walk\"))"
   ]
  },
  {
   "cell_type": "code",
   "execution_count": 5,
   "id": "b3b33156-0771-41ee-ac99-b8814afe5716",
   "metadata": {},
   "outputs": [
    {
     "name": "stdout",
     "output_type": "stream",
     "text": [
      "test_walk/users/user_2.txt\n",
      "test_walk/users/user_1.txt\n",
      "test_walk/users/admins/admin_1.txt\n",
      "test_walk/projects/readme.txt\n",
      "test_walk/projects/category_2/project_2_1.txt\n",
      "test_walk/projects/category_1/project_1_1.txt\n",
      "test_walk/projects/category_1/project_1_2.txt\n",
      "test_walk/tasks/task3.txt\n",
      "test_walk/tasks/task4.txt\n",
      "test_walk/tasks/task2.txt\n",
      "test_walk/tasks/task1.txt\n"
     ]
    }
   ],
   "source": [
    "for root, dirs, files in os.walk(\"test_walk\"):\n",
    "    for file in files:\n",
    "        print(os.path.join(root, file))"
   ]
  },
  {
   "cell_type": "code",
   "execution_count": null,
   "id": "8441bbb3-cbbc-46ff-9b1c-25955be512c5",
   "metadata": {},
   "outputs": [],
   "source": []
  }
 ],
 "metadata": {
  "kernelspec": {
   "display_name": "Python 3 (ipykernel)",
   "language": "python",
   "name": "python3"
  },
  "language_info": {
   "codemirror_mode": {
    "name": "ipython",
    "version": 3
   },
   "file_extension": ".py",
   "mimetype": "text/x-python",
   "name": "python",
   "nbconvert_exporter": "python",
   "pygments_lexer": "ipython3",
   "version": "3.12.7"
  }
 },
 "nbformat": 4,
 "nbformat_minor": 5
}
